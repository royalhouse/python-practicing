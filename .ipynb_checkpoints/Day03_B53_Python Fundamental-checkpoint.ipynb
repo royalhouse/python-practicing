{
 "cells": [
  {
   "cell_type": "code",
   "execution_count": null,
   "id": "6fd4a962",
   "metadata": {},
   "outputs": [],
   "source": [
    "Continuation with strings:"
   ]
  },
  {
   "cell_type": "code",
   "execution_count": null,
   "id": "a74432ec",
   "metadata": {},
   "outputs": [],
   "source": [
    "intro duction to f strings:"
   ]
  },
  {
   "cell_type": "code",
   "execution_count": null,
   "id": "99ef88d0",
   "metadata": {},
   "outputs": [],
   "source": [
    "# general syntax of f strings:\n",
    "\n",
    "f\" custom words {placeholder-1}{placeholder2}...{placeholder...n}\""
   ]
  },
  {
   "cell_type": "code",
   "execution_count": 1,
   "id": "883354bc",
   "metadata": {},
   "outputs": [],
   "source": [
    "first_name='Abu'\n",
    "last_name='Naser'"
   ]
  },
  {
   "cell_type": "code",
   "execution_count": 3,
   "id": "f5675810",
   "metadata": {},
   "outputs": [
    {
     "name": "stdout",
     "output_type": "stream",
     "text": [
      "Abu Naser\n"
     ]
    }
   ],
   "source": [
    "#Get the full name.........?\n",
    "\n",
    "fullname=f\"{first_name} {last_name}\"\n",
    "print(fullname)\n"
   ]
  },
  {
   "cell_type": "code",
   "execution_count": 5,
   "id": "a69bfd88",
   "metadata": {},
   "outputs": [
    {
     "name": "stdout",
     "output_type": "stream",
     "text": [
      "Hello, Abu Naser\n"
     ]
    }
   ],
   "source": [
    "# Greet Naser\n",
    "\n",
    "print(f\"Hello, {fullname}\")"
   ]
  },
  {
   "cell_type": "code",
   "execution_count": 6,
   "id": "3bcd297a",
   "metadata": {},
   "outputs": [
    {
     "name": "stdout",
     "output_type": "stream",
     "text": [
      "Hello, Abu Naser\n"
     ]
    }
   ],
   "source": [
    "# Correcting the format.......!\n",
    "\n",
    "print(f\"Hello, {fullname.title()}\")"
   ]
  },
  {
   "cell_type": "code",
   "execution_count": null,
   "id": "aa99c192",
   "metadata": {},
   "outputs": [],
   "source": [
    "# Adding whitespaces to strings:"
   ]
  },
  {
   "cell_type": "code",
   "execution_count": 7,
   "id": "df6746db",
   "metadata": {},
   "outputs": [
    {
     "name": "stdout",
     "output_type": "stream",
     "text": [
      "favourites_language:pythonc++javacobalcjavascript\n"
     ]
    }
   ],
   "source": [
    "print(\"favourites_language:pythonc++javacobalcjavascript\")"
   ]
  },
  {
   "cell_type": "code",
   "execution_count": 8,
   "id": "4accdd29",
   "metadata": {},
   "outputs": [
    {
     "name": "stdout",
     "output_type": "stream",
     "text": [
      "favourites_language:\n",
      "python\n",
      "c++\n",
      "java\n",
      "cobal\n",
      "c\n",
      "javascript\n"
     ]
    }
   ],
   "source": [
    "print(\"favourites_language:\\npython\\nc++\\njava\\ncobal\\nc\\njavascript\")"
   ]
  },
  {
   "cell_type": "code",
   "execution_count": null,
   "id": "829dbe10",
   "metadata": {},
   "outputs": [],
   "source": [
    "\\n ----> new line delimeter, it will print from a new line."
   ]
  },
  {
   "cell_type": "code",
   "execution_count": null,
   "id": "e7168a9e",
   "metadata": {},
   "outputs": [],
   "source": [
    "\\t --> tab delimiter"
   ]
  },
  {
   "cell_type": "code",
   "execution_count": 9,
   "id": "043a7aa4",
   "metadata": {},
   "outputs": [
    {
     "name": "stdout",
     "output_type": "stream",
     "text": [
      "python\n"
     ]
    }
   ],
   "source": [
    "#Removing whitespaces from the strings:\n",
    "\n",
    "name='python'\n",
    "\n",
    "print(name)"
   ]
  },
  {
   "cell_type": "code",
   "execution_count": 10,
   "id": "8d1c5850",
   "metadata": {},
   "outputs": [
    {
     "name": "stdout",
     "output_type": "stream",
     "text": [
      "        maruthi\n"
     ]
    }
   ],
   "source": [
    "name2='        maruthi'\n",
    "\n",
    "print(name2)"
   ]
  },
  {
   "cell_type": "code",
   "execution_count": 11,
   "id": "92385dd8",
   "metadata": {},
   "outputs": [
    {
     "name": "stdout",
     "output_type": "stream",
     "text": [
      "suzuki        \n"
     ]
    }
   ],
   "source": [
    "name3='suzuki        '\n",
    "\n",
    "print(name3)"
   ]
  },
  {
   "cell_type": "code",
   "execution_count": 12,
   "id": "6dbdf3fc",
   "metadata": {},
   "outputs": [
    {
     "data": {
      "text/plain": [
       "'maruthi'"
      ]
     },
     "execution_count": 12,
     "metadata": {},
     "output_type": "execute_result"
    }
   ],
   "source": [
    "name2.lstrip()"
   ]
  },
  {
   "cell_type": "code",
   "execution_count": 13,
   "id": "29e56aa8",
   "metadata": {},
   "outputs": [
    {
     "data": {
      "text/plain": [
       "'suzuki'"
      ]
     },
     "execution_count": 13,
     "metadata": {},
     "output_type": "execute_result"
    }
   ],
   "source": [
    "name3.rstrip()"
   ]
  },
  {
   "cell_type": "code",
   "execution_count": 14,
   "id": "24bb9c65",
   "metadata": {},
   "outputs": [
    {
     "name": "stdout",
     "output_type": "stream",
     "text": [
      "    benz     \n"
     ]
    }
   ],
   "source": [
    "name4='    benz     '\n",
    "\n",
    "print(name4)"
   ]
  },
  {
   "cell_type": "code",
   "execution_count": 15,
   "id": "58bb8d55",
   "metadata": {},
   "outputs": [
    {
     "data": {
      "text/plain": [
       "'suzuki'"
      ]
     },
     "execution_count": 15,
     "metadata": {},
     "output_type": "execute_result"
    }
   ],
   "source": [
    "name3.strip()"
   ]
  },
  {
   "cell_type": "code",
   "execution_count": null,
   "id": "45c82f08",
   "metadata": {},
   "outputs": [],
   "source": []
  }
 ],
 "metadata": {
  "kernelspec": {
   "display_name": "Python 3",
   "language": "python",
   "name": "python3"
  },
  "language_info": {
   "codemirror_mode": {
    "name": "ipython",
    "version": 3
   },
   "file_extension": ".py",
   "mimetype": "text/x-python",
   "name": "python",
   "nbconvert_exporter": "python",
   "pygments_lexer": "ipython3",
   "version": "3.8.8"
  }
 },
 "nbformat": 4,
 "nbformat_minor": 5
}
