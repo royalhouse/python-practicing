{
 "cells": [
  {
   "cell_type": "code",
   "execution_count": null,
   "id": "a255aaa9",
   "metadata": {},
   "outputs": [],
   "source": [
    "# variable declaration"
   ]
  },
  {
   "cell_type": "code",
   "execution_count": 2,
   "id": "6fd4a962",
   "metadata": {},
   "outputs": [],
   "source": [
    "name='Naser'"
   ]
  },
  {
   "cell_type": "code",
   "execution_count": 3,
   "id": "cfa9953f",
   "metadata": {},
   "outputs": [
    {
     "name": "stdout",
     "output_type": "stream",
     "text": [
      "Naser\n"
     ]
    }
   ],
   "source": [
    "print(name)"
   ]
  },
  {
   "cell_type": "code",
   "execution_count": 5,
   "id": "8618a3eb",
   "metadata": {},
   "outputs": [
    {
     "ename": "SyntaxError",
     "evalue": "invalid syntax (<ipython-input-5-bde0ba18483e>, line 2)",
     "output_type": "error",
     "traceback": [
      "\u001b[1;36m  File \u001b[1;32m\"<ipython-input-5-bde0ba18483e>\"\u001b[1;36m, line \u001b[1;32m2\u001b[0m\n\u001b[1;33m    print(name@)\u001b[0m\n\u001b[1;37m               ^\u001b[0m\n\u001b[1;31mSyntaxError\u001b[0m\u001b[1;31m:\u001b[0m invalid syntax\n"
     ]
    }
   ],
   "source": [
    "name@='Naer'\n",
    "print(name@)"
   ]
  },
  {
   "cell_type": "code",
   "execution_count": null,
   "id": "61888326",
   "metadata": {},
   "outputs": [],
   "source": [
    "Introducing datatype in python:\n",
    "    1. String    ----> str\n",
    "    2. Numbers ------> integers (int) and floats (decimals)----> float\n",
    "    3. List ---------> list\n",
    "    4. Tuple --------> tuple\n",
    "    5. Dictionaries--> dict"
   ]
  },
  {
   "cell_type": "code",
   "execution_count": null,
   "id": "9b329178",
   "metadata": {},
   "outputs": [],
   "source": [
    "classification of datatypes:\n",
    "    \n",
    "    1. mutable datatype ------> we can edit or alter once it has been created  ---> flexible\n",
    "    2. immutable datatype ----> we cannot edit or alter once it has been created -> fixed.\n",
    "    \n",
    "    how do I  declare a string\n",
    "    ---------------------------\n",
    "    3 possible combinations\n",
    "    \n",
    "    a. single quotes\n",
    "    b. double quotes\n",
    "    c. triple quotes\n"
   ]
  },
  {
   "cell_type": "code",
   "execution_count": 6,
   "id": "4d20f425",
   "metadata": {},
   "outputs": [
    {
     "name": "stdout",
     "output_type": "stream",
     "text": [
      "Naser\n"
     ]
    }
   ],
   "source": [
    "name ='Naser' # single quotes\n",
    "print(name)"
   ]
  },
  {
   "cell_type": "code",
   "execution_count": 8,
   "id": "bc846e24",
   "metadata": {},
   "outputs": [
    {
     "name": "stdout",
     "output_type": "stream",
     "text": [
      "Naser\n"
     ]
    }
   ],
   "source": [
    "name2=\"Naser\" # double quotes\n",
    "print(name2)"
   ]
  },
  {
   "cell_type": "code",
   "execution_count": 9,
   "id": "38eb7e7a",
   "metadata": {},
   "outputs": [
    {
     "name": "stdout",
     "output_type": "stream",
     "text": [
      "Naser\n"
     ]
    }
   ],
   "source": [
    "name3=\"\"\"Naser\"\"\" # triple quotes\n",
    "print(name3)"
   ]
  },
  {
   "cell_type": "code",
   "execution_count": null,
   "id": "a8bf57f9",
   "metadata": {},
   "outputs": [],
   "source": [
    "introduction to string methods\n",
    "\n",
    "methods are built in program that are available to use.\n"
   ]
  },
  {
   "cell_type": "code",
   "execution_count": null,
   "id": "25235d74",
   "metadata": {},
   "outputs": [],
   "source": [
    "Type: it is used to check and validate the datatype"
   ]
  },
  {
   "cell_type": "code",
   "execution_count": 10,
   "id": "92dd4488",
   "metadata": {},
   "outputs": [
    {
     "data": {
      "text/plain": [
       "str"
      ]
     },
     "execution_count": 10,
     "metadata": {},
     "output_type": "execute_result"
    }
   ],
   "source": [
    "type(name)"
   ]
  },
  {
   "cell_type": "code",
   "execution_count": 11,
   "id": "9b2fb037",
   "metadata": {},
   "outputs": [
    {
     "data": {
      "text/plain": [
       "str"
      ]
     },
     "execution_count": 11,
     "metadata": {},
     "output_type": "execute_result"
    }
   ],
   "source": [
    "type(name2)"
   ]
  },
  {
   "cell_type": "code",
   "execution_count": 12,
   "id": "de8ccdd5",
   "metadata": {},
   "outputs": [
    {
     "data": {
      "text/plain": [
       "str"
      ]
     },
     "execution_count": 12,
     "metadata": {},
     "output_type": "execute_result"
    }
   ],
   "source": [
    "type(name3)"
   ]
  },
  {
   "cell_type": "code",
   "execution_count": 13,
   "id": "a6b883fe",
   "metadata": {},
   "outputs": [
    {
     "name": "stdout",
     "output_type": "stream",
     "text": [
      "Abu Naser\n"
     ]
    }
   ],
   "source": [
    "fullname='Abu Naser'\n",
    "print(fullname)"
   ]
  },
  {
   "cell_type": "code",
   "execution_count": 14,
   "id": "4042fca5",
   "metadata": {},
   "outputs": [
    {
     "name": "stdout",
     "output_type": "stream",
     "text": [
      "Abu Naser\n"
     ]
    }
   ],
   "source": [
    "print(fullname.title())"
   ]
  },
  {
   "cell_type": "code",
   "execution_count": 16,
   "id": "2c54cf47",
   "metadata": {},
   "outputs": [
    {
     "name": "stdout",
     "output_type": "stream",
     "text": [
      "ABU NASER\n"
     ]
    }
   ],
   "source": [
    "# Name in capital letters\n",
    "\n",
    "print(fullname.upper())"
   ]
  },
  {
   "cell_type": "code",
   "execution_count": 17,
   "id": "7193db41",
   "metadata": {},
   "outputs": [
    {
     "name": "stdout",
     "output_type": "stream",
     "text": [
      "abu naser\n"
     ]
    }
   ],
   "source": [
    "# Name in small case\n",
    "\n",
    "print(fullname.lower())"
   ]
  },
  {
   "cell_type": "code",
   "execution_count": null,
   "id": "f9b035b1",
   "metadata": {},
   "outputs": [],
   "source": []
  }
 ],
 "metadata": {
  "kernelspec": {
   "display_name": "Python 3",
   "language": "python",
   "name": "python3"
  },
  "language_info": {
   "codemirror_mode": {
    "name": "ipython",
    "version": 3
   },
   "file_extension": ".py",
   "mimetype": "text/x-python",
   "name": "python",
   "nbconvert_exporter": "python",
   "pygments_lexer": "ipython3",
   "version": "3.8.8"
  }
 },
 "nbformat": 4,
 "nbformat_minor": 5
}
