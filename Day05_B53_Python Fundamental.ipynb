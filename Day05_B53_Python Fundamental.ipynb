{
 "cells": [
  {
   "cell_type": "code",
   "execution_count": null,
   "id": "6fd4a962",
   "metadata": {},
   "outputs": [],
   "source": [
    "Continuation with lists:"
   ]
  },
  {
   "cell_type": "code",
   "execution_count": null,
   "id": "a74432ec",
   "metadata": {},
   "outputs": [],
   "source": [
    "Organising the list datatype:"
   ]
  },
  {
   "cell_type": "code",
   "execution_count": 5,
   "id": "d83013b0",
   "metadata": {},
   "outputs": [],
   "source": [
    "cars=['bmw','suzuki','audi','benz','duster','ciaz']"
   ]
  },
  {
   "cell_type": "code",
   "execution_count": 6,
   "id": "cfa9953f",
   "metadata": {},
   "outputs": [
    {
     "name": "stdout",
     "output_type": "stream",
     "text": [
      "['bmw', 'suzuki', 'audi', 'benz', 'duster', 'ciaz']\n"
     ]
    }
   ],
   "source": [
    "print(cars)"
   ]
  },
  {
   "cell_type": "code",
   "execution_count": null,
   "id": "8618a3eb",
   "metadata": {},
   "outputs": [],
   "source": [
    "# Above list organize in Alphabetical order A-z"
   ]
  },
  {
   "cell_type": "code",
   "execution_count": null,
   "id": "38a231c9",
   "metadata": {},
   "outputs": [],
   "source": [
    "2 approaches:\n",
    "    1. temp approach - sorted ==> we will be having the original order of the list\n",
    "    2. permanent approach - sort() ==> list will order permanently and cannot go back to the original order.\n"
   ]
  },
  {
   "cell_type": "code",
   "execution_count": 7,
   "id": "9a2dc85b",
   "metadata": {},
   "outputs": [
    {
     "name": "stdout",
     "output_type": "stream",
     "text": [
      "['audi', 'benz', 'bmw', 'ciaz', 'duster', 'suzuki']\n"
     ]
    }
   ],
   "source": [
    "print(sorted(cars)) # temporarily A-z order sorting"
   ]
  },
  {
   "cell_type": "code",
   "execution_count": 8,
   "id": "f5d61737",
   "metadata": {},
   "outputs": [
    {
     "name": "stdout",
     "output_type": "stream",
     "text": [
      "['bmw', 'suzuki', 'audi', 'benz', 'duster', 'ciaz']\n"
     ]
    }
   ],
   "source": [
    "print(cars) # original unsorted order"
   ]
  },
  {
   "cell_type": "code",
   "execution_count": 9,
   "id": "f323b26c",
   "metadata": {},
   "outputs": [],
   "source": [
    "cars.sort() # Sorting happened here"
   ]
  },
  {
   "cell_type": "code",
   "execution_count": 10,
   "id": "5264efa1",
   "metadata": {},
   "outputs": [
    {
     "name": "stdout",
     "output_type": "stream",
     "text": [
      "['audi', 'benz', 'bmw', 'ciaz', 'duster', 'suzuki']\n"
     ]
    }
   ],
   "source": [
    "print(cars) # print permanent orted list"
   ]
  },
  {
   "cell_type": "code",
   "execution_count": 12,
   "id": "7a0ed371",
   "metadata": {},
   "outputs": [],
   "source": [
    "# Print the list in the opposite way / reverse order"
   ]
  },
  {
   "cell_type": "code",
   "execution_count": 13,
   "id": "7b5efa57",
   "metadata": {},
   "outputs": [],
   "source": [
    "cars.reverse() # Reverse happened here"
   ]
  },
  {
   "cell_type": "code",
   "execution_count": 14,
   "id": "d7b55b59",
   "metadata": {},
   "outputs": [
    {
     "name": "stdout",
     "output_type": "stream",
     "text": [
      "['suzuki', 'duster', 'ciaz', 'bmw', 'benz', 'audi']\n"
     ]
    }
   ],
   "source": [
    "print(cars)"
   ]
  },
  {
   "cell_type": "code",
   "execution_count": 15,
   "id": "6299ea8a",
   "metadata": {},
   "outputs": [],
   "source": [
    "# Count the no of elements in a list"
   ]
  },
  {
   "cell_type": "code",
   "execution_count": 16,
   "id": "65de4432",
   "metadata": {},
   "outputs": [
    {
     "data": {
      "text/plain": [
       "6"
      ]
     },
     "execution_count": 16,
     "metadata": {},
     "output_type": "execute_result"
    }
   ],
   "source": [
    "len(cars)"
   ]
  },
  {
   "cell_type": "code",
   "execution_count": 17,
   "id": "451aa512",
   "metadata": {},
   "outputs": [],
   "source": [
    "# introduction to slicing:"
   ]
  },
  {
   "cell_type": "code",
   "execution_count": 9,
   "id": "d5c8d8b8",
   "metadata": {},
   "outputs": [],
   "source": [
    "students =['Manik','Jahangir','Thanmay','Jashim','Kamal','Naser']"
   ]
  },
  {
   "cell_type": "code",
   "execution_count": 19,
   "id": "1b8b094c",
   "metadata": {},
   "outputs": [
    {
     "name": "stdout",
     "output_type": "stream",
     "text": [
      "['Manik', 'Jahangir', 'Thanmay', 'Jashim', 'Kamal']\n"
     ]
    }
   ],
   "source": [
    "print(students)"
   ]
  },
  {
   "cell_type": "code",
   "execution_count": 20,
   "id": "d0c258eb",
   "metadata": {},
   "outputs": [],
   "source": [
    "#General syntax of slicing:"
   ]
  },
  {
   "cell_type": "code",
   "execution_count": null,
   "id": "977464bb",
   "metadata": {},
   "outputs": [],
   "source": [
    "startvalue:stopvalue:stepcount\n",
    "        Note: stopvalue is always exclusive, to include stop value we have to add +1."
   ]
  },
  {
   "cell_type": "code",
   "execution_count": null,
   "id": "e5f9b0e5",
   "metadata": {},
   "outputs": [],
   "source": [
    "Add Manik and Jahangir in a slice....?"
   ]
  },
  {
   "cell_type": "code",
   "execution_count": 23,
   "id": "b867c84f",
   "metadata": {},
   "outputs": [
    {
     "name": "stdout",
     "output_type": "stream",
     "text": [
      "['Manik']\n"
     ]
    }
   ],
   "source": [
    "print(students[0:1])"
   ]
  },
  {
   "cell_type": "code",
   "execution_count": 25,
   "id": "63ba2715",
   "metadata": {},
   "outputs": [
    {
     "name": "stdout",
     "output_type": "stream",
     "text": [
      "['Manik', 'Jahangir']\n"
     ]
    }
   ],
   "source": [
    "print(students[0:2])"
   ]
  },
  {
   "cell_type": "code",
   "execution_count": null,
   "id": "5ec667d0",
   "metadata": {},
   "outputs": [],
   "source": [
    "# Add Thanmay and Jashim in a slice....?"
   ]
  },
  {
   "cell_type": "code",
   "execution_count": 26,
   "id": "1e2e1106",
   "metadata": {},
   "outputs": [
    {
     "name": "stdout",
     "output_type": "stream",
     "text": [
      "['Thanmay', 'Jashim']\n"
     ]
    }
   ],
   "source": [
    "print(students[2:4])"
   ]
  },
  {
   "cell_type": "code",
   "execution_count": null,
   "id": "e92f317b",
   "metadata": {},
   "outputs": [],
   "source": [
    "# Add Kamal and Naser in th eslice....?"
   ]
  },
  {
   "cell_type": "code",
   "execution_count": 34,
   "id": "b34697af",
   "metadata": {},
   "outputs": [
    {
     "name": "stdout",
     "output_type": "stream",
     "text": [
      "['Kamal', 'Naser']\n"
     ]
    }
   ],
   "source": [
    "print(students[4:6])"
   ]
  },
  {
   "cell_type": "code",
   "execution_count": 35,
   "id": "abf942ad",
   "metadata": {},
   "outputs": [
    {
     "name": "stdout",
     "output_type": "stream",
     "text": [
      "['Manik', 'Jahangir', 'Thanmay', 'Jashim', 'Kamal', 'Naser']\n"
     ]
    }
   ],
   "source": [
    "print(students)"
   ]
  },
  {
   "cell_type": "code",
   "execution_count": 10,
   "id": "b9d58bb5",
   "metadata": {},
   "outputs": [
    {
     "name": "stdout",
     "output_type": "stream",
     "text": [
      "['Manik', 'Thanmay', 'Kamal']\n"
     ]
    }
   ],
   "source": [
    "print(students[0:6:2])"
   ]
  }
 ],
 "metadata": {
  "kernelspec": {
   "display_name": "Python 3",
   "language": "python",
   "name": "python3"
  },
  "language_info": {
   "codemirror_mode": {
    "name": "ipython",
    "version": 3
   },
   "file_extension": ".py",
   "mimetype": "text/x-python",
   "name": "python",
   "nbconvert_exporter": "python",
   "pygments_lexer": "ipython3",
   "version": "3.8.8"
  }
 },
 "nbformat": 4,
 "nbformat_minor": 5
}
