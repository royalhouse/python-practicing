{
 "cells": [
  {
   "cell_type": "code",
   "execution_count": null,
   "id": "6fd4a962",
   "metadata": {},
   "outputs": [],
   "source": [
    "Introduction to list datatype:"
   ]
  },
  {
   "cell_type": "code",
   "execution_count": null,
   "id": "a74432ec",
   "metadata": {},
   "outputs": [],
   "source": [
    "definition> A list is a collection of items in a particular order.\n",
    "\n",
    "classification: it is classified as a mutable datatype (we can edit/ alter data).\n",
    "    \n",
    "How do I declare a list    ....?"
   ]
  },
  {
   "cell_type": "code",
   "execution_count": 1,
   "id": "8618a3eb",
   "metadata": {},
   "outputs": [],
   "source": [
    "students =['ravi','naveem','joseph','nisar','vanshika']"
   ]
  },
  {
   "cell_type": "code",
   "execution_count": 2,
   "id": "2451fd2a",
   "metadata": {},
   "outputs": [
    {
     "name": "stdout",
     "output_type": "stream",
     "text": [
      "['ravi', 'naveem', 'joseph', 'nisar', 'vanshika']\n"
     ]
    }
   ],
   "source": [
    "print(students)"
   ]
  },
  {
   "cell_type": "code",
   "execution_count": 3,
   "id": "87ce59db",
   "metadata": {},
   "outputs": [
    {
     "data": {
      "text/plain": [
       "list"
      ]
     },
     "execution_count": 3,
     "metadata": {},
     "output_type": "execute_result"
    }
   ],
   "source": [
    "type(students)"
   ]
  },
  {
   "cell_type": "code",
   "execution_count": null,
   "id": "f619f013",
   "metadata": {},
   "outputs": [],
   "source": [
    "#Access the elements from the above list.....?"
   ]
  },
  {
   "cell_type": "code",
   "execution_count": null,
   "id": "a7a0442e",
   "metadata": {},
   "outputs": [],
   "source": [
    "introduction to indexint: 0,1,2,3........."
   ]
  },
  {
   "cell_type": "code",
   "execution_count": 4,
   "id": "5e4aa21f",
   "metadata": {},
   "outputs": [
    {
     "name": "stdout",
     "output_type": "stream",
     "text": [
      "naveem\n"
     ]
    }
   ],
   "source": [
    "# Access naveem name in the output....?\n",
    "\n",
    "print(students[1])"
   ]
  },
  {
   "cell_type": "code",
   "execution_count": 5,
   "id": "119b6399",
   "metadata": {},
   "outputs": [
    {
     "name": "stdout",
     "output_type": "stream",
     "text": [
      "ravi\n"
     ]
    }
   ],
   "source": [
    "# Access ravi in the output....?\n",
    "\n",
    "print(students[0])"
   ]
  },
  {
   "cell_type": "code",
   "execution_count": null,
   "id": "704ad106",
   "metadata": {},
   "outputs": [],
   "source": [
    "1. How to add new elements to the list\n",
    "2. How to modify the elements in the list\n",
    "3. How to delete the elements from the list"
   ]
  },
  {
   "cell_type": "code",
   "execution_count": 8,
   "id": "7ef95901",
   "metadata": {},
   "outputs": [
    {
     "name": "stdout",
     "output_type": "stream",
     "text": [
      "['ravi', 'naveem', 'joseph', 'nisar', 'vanshika', 'vivek']\n"
     ]
    }
   ],
   "source": [
    "# Add vivek name in the students list\n",
    "\n",
    "students.append('vivek')\n",
    "\n",
    "print(students)"
   ]
  },
  {
   "cell_type": "code",
   "execution_count": 9,
   "id": "e600e52b",
   "metadata": {},
   "outputs": [
    {
     "name": "stdout",
     "output_type": "stream",
     "text": [
      "['ravi', 'naveem', 'joseph', 'nisar', 'vanshika', 'vivek', 'karthik']\n"
     ]
    }
   ],
   "source": [
    "# add karthik name in the students list\n",
    "\n",
    "students.append('karthik')\n",
    "\n",
    "print(students)"
   ]
  },
  {
   "cell_type": "code",
   "execution_count": 10,
   "id": "39f96f3e",
   "metadata": {},
   "outputs": [
    {
     "name": "stdout",
     "output_type": "stream",
     "text": [
      "['ravi', 'naveem', 'aarif', 'joseph', 'nisar', 'vanshika', 'vivek', 'karthik']\n"
     ]
    }
   ],
   "source": [
    "# add aarif to the 2nd index position....?\n",
    "\n",
    "students.insert(2,'aarif')\n",
    "\n",
    "print(students)"
   ]
  },
  {
   "cell_type": "code",
   "execution_count": null,
   "id": "174c7adb",
   "metadata": {},
   "outputs": [],
   "source": [
    "# different between append and insert in list?"
   ]
  },
  {
   "cell_type": "code",
   "execution_count": 11,
   "id": "3d9881ec",
   "metadata": {},
   "outputs": [
    {
     "name": "stdout",
     "output_type": "stream",
     "text": [
      "['ravi', 'naveem', 'aarif', 'joseph', 'nisar', 'vanshika', 'vivek', 'karthik']\n"
     ]
    }
   ],
   "source": [
    "print(students)"
   ]
  },
  {
   "cell_type": "code",
   "execution_count": 12,
   "id": "7677c163",
   "metadata": {},
   "outputs": [
    {
     "name": "stdout",
     "output_type": "stream",
     "text": [
      "kumar\n"
     ]
    }
   ],
   "source": [
    "# Modify naveem name to kumar....?\n",
    "\n",
    "students[1]='kumar'\n",
    "\n",
    "print(students[1])"
   ]
  },
  {
   "cell_type": "code",
   "execution_count": 13,
   "id": "92ef44d0",
   "metadata": {},
   "outputs": [
    {
     "name": "stdout",
     "output_type": "stream",
     "text": [
      "['ravi', 'kumar', 'aarif', 'joseph', 'nisar', 'vanshika', 'vivek', 'karthik']\n"
     ]
    }
   ],
   "source": [
    "print(students)"
   ]
  },
  {
   "cell_type": "code",
   "execution_count": 14,
   "id": "df38a13e",
   "metadata": {},
   "outputs": [
    {
     "name": "stdout",
     "output_type": "stream",
     "text": [
      "['ravi', 'kumar', 'aarif', 'nisar', 'vanshika', 'vivek', 'karthik']\n"
     ]
    }
   ],
   "source": [
    "# delete joseph from the list\n",
    "\n",
    "\n",
    "del students[3]\n",
    "\n",
    "print(students)"
   ]
  },
  {
   "cell_type": "code",
   "execution_count": null,
   "id": "22614e7d",
   "metadata": {},
   "outputs": [],
   "source": [
    "# temporary deleting the element in the list..........!\n",
    "\n",
    "pop()---> it will be deleting the item temp.\n",
    "\n",
    "It will be creating a carbon copy of the deleted items.\n",
    "\n",
    "by default pop method will be deleting the items from the list elements.\n",
    "\n",
    "we can also define the custom index that we wanted to delete in the parenthesis of the pop method."
   ]
  },
  {
   "cell_type": "code",
   "execution_count": 15,
   "id": "26a2ef36",
   "metadata": {},
   "outputs": [
    {
     "name": "stdout",
     "output_type": "stream",
     "text": [
      "['ravi', 'kumar', 'aarif', 'nisar', 'vanshika', 'vivek', 'karthik']\n"
     ]
    }
   ],
   "source": [
    "print(students)"
   ]
  },
  {
   "cell_type": "code",
   "execution_count": 16,
   "id": "ad69f292",
   "metadata": {},
   "outputs": [],
   "source": [
    "x=students.pop()"
   ]
  },
  {
   "cell_type": "code",
   "execution_count": 17,
   "id": "a5f4d29c",
   "metadata": {},
   "outputs": [
    {
     "name": "stdout",
     "output_type": "stream",
     "text": [
      "['ravi', 'kumar', 'aarif', 'nisar', 'vanshika', 'vivek']\n"
     ]
    }
   ],
   "source": [
    "print(students)"
   ]
  },
  {
   "cell_type": "code",
   "execution_count": 18,
   "id": "8f11970a",
   "metadata": {},
   "outputs": [
    {
     "name": "stdout",
     "output_type": "stream",
     "text": [
      "karthik\n"
     ]
    }
   ],
   "source": [
    "print(x)"
   ]
  },
  {
   "cell_type": "code",
   "execution_count": 21,
   "id": "b0a5d586",
   "metadata": {},
   "outputs": [],
   "source": [
    "a=students.pop(1)"
   ]
  },
  {
   "cell_type": "code",
   "execution_count": 22,
   "id": "6193ff5e",
   "metadata": {},
   "outputs": [
    {
     "name": "stdout",
     "output_type": "stream",
     "text": [
      "kumar\n"
     ]
    }
   ],
   "source": [
    "print(a)"
   ]
  },
  {
   "cell_type": "code",
   "execution_count": null,
   "id": "06f5219e",
   "metadata": {},
   "outputs": [],
   "source": []
  }
 ],
 "metadata": {
  "kernelspec": {
   "display_name": "Python 3",
   "language": "python",
   "name": "python3"
  },
  "language_info": {
   "codemirror_mode": {
    "name": "ipython",
    "version": 3
   },
   "file_extension": ".py",
   "mimetype": "text/x-python",
   "name": "python",
   "nbconvert_exporter": "python",
   "pygments_lexer": "ipython3",
   "version": "3.8.8"
  }
 },
 "nbformat": 4,
 "nbformat_minor": 5
}
