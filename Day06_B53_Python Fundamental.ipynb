{
 "cells": [
  {
   "cell_type": "code",
   "execution_count": null,
   "id": "5c3f7480",
   "metadata": {},
   "outputs": [],
   "source": [
    "Continuation with lists:"
   ]
  },
  {
   "cell_type": "code",
   "execution_count": 1,
   "id": "079c3587",
   "metadata": {},
   "outputs": [],
   "source": [
    "students=['rammohan','praveen','karthik','naveed','divya','tabassum']"
   ]
  },
  {
   "cell_type": "code",
   "execution_count": 2,
   "id": "de75df17",
   "metadata": {},
   "outputs": [
    {
     "name": "stdout",
     "output_type": "stream",
     "text": [
      "['rammohan', 'praveen', 'karthik', 'naveed', 'divya', 'tabassum']\n"
     ]
    }
   ],
   "source": [
    "print(students)"
   ]
  },
  {
   "cell_type": "code",
   "execution_count": null,
   "id": "7ef46e07",
   "metadata": {},
   "outputs": [],
   "source": [
    "# req: Appreciate the above students in the list.....?"
   ]
  },
  {
   "cell_type": "code",
   "execution_count": 3,
   "id": "20634736",
   "metadata": {},
   "outputs": [
    {
     "name": "stdout",
     "output_type": "stream",
     "text": [
      "keep up the good work, rammohan\n"
     ]
    }
   ],
   "source": [
    "print(f\"keep up the good work, {students[0]}\")"
   ]
  },
  {
   "cell_type": "code",
   "execution_count": 5,
   "id": "2253aa2a",
   "metadata": {},
   "outputs": [
    {
     "name": "stdout",
     "output_type": "stream",
     "text": [
      "keep up the good work, Rammohan\n"
     ]
    }
   ],
   "source": [
    "print(f\"keep up the good work, {students[0].title()}\")"
   ]
  },
  {
   "cell_type": "code",
   "execution_count": 6,
   "id": "674573ca",
   "metadata": {},
   "outputs": [
    {
     "name": "stdout",
     "output_type": "stream",
     "text": [
      "keep up the good work, Praveen\n"
     ]
    }
   ],
   "source": [
    "print(f\"keep up the good work, {students[1].title()}\")"
   ]
  },
  {
   "cell_type": "code",
   "execution_count": 7,
   "id": "eb1da3ab",
   "metadata": {},
   "outputs": [
    {
     "name": "stdout",
     "output_type": "stream",
     "text": [
      "keep up the good work, Karthik\n"
     ]
    }
   ],
   "source": [
    "print(f\"keep up the good work, {students[2].title()}\")"
   ]
  },
  {
   "cell_type": "code",
   "execution_count": null,
   "id": "9ecf457e",
   "metadata": {},
   "outputs": [],
   "source": [
    "Introduction to looping statements : \n",
    "    \n",
    "Understanding for loop:"
   ]
  },
  {
   "cell_type": "code",
   "execution_count": null,
   "id": "0efbc3c8",
   "metadata": {},
   "outputs": [],
   "source": [
    "# general syntax of a for loo:\n",
    "\n",
    "\n",
    "for tempvar in mainvar:\n",
    "    print(tempvar)"
   ]
  },
  {
   "cell_type": "code",
   "execution_count": null,
   "id": "ee223656",
   "metadata": {},
   "outputs": [],
   "source": [
    "tempvar -----------> can be any name we declare. x,y, ironman\n"
   ]
  },
  {
   "cell_type": "code",
   "execution_count": 11,
   "id": "bfd3f711",
   "metadata": {},
   "outputs": [
    {
     "name": "stdout",
     "output_type": "stream",
     "text": [
      "keep up the good work, rammohan\n",
      "keep up the good work, praveen\n",
      "keep up the good work, karthik\n",
      "keep up the good work, naveed\n",
      "keep up the good work, divya\n",
      "keep up the good work, tabassum\n"
     ]
    }
   ],
   "source": [
    "for x in students:\n",
    "    print(f\"keep up the good work, {x}\")"
   ]
  },
  {
   "cell_type": "code",
   "execution_count": 12,
   "id": "fcf1d8a4",
   "metadata": {},
   "outputs": [
    {
     "name": "stdout",
     "output_type": "stream",
     "text": [
      "keep up the good work, Rammohan\n",
      "keep up the good work, Praveen\n",
      "keep up the good work, Karthik\n",
      "keep up the good work, Naveed\n",
      "keep up the good work, Divya\n",
      "keep up the good work, Tabassum\n"
     ]
    }
   ],
   "source": [
    "for x in students:\n",
    "    print(f\"keep up the good work, {x.title()}\")"
   ]
  },
  {
   "cell_type": "code",
   "execution_count": null,
   "id": "bf3d4121",
   "metadata": {},
   "outputs": [],
   "source": []
  },
  {
   "cell_type": "code",
   "execution_count": 17,
   "id": "8a3b6cba",
   "metadata": {},
   "outputs": [
    {
     "name": "stdout",
     "output_type": "stream",
     "text": [
      "Axis Bank wishes you a happy new year, Rammohan\n",
      "Axis Bank wishes you a happy new year, Praveen\n",
      "Axis Bank wishes you a happy new year, Karthik\n",
      "Axis Bank wishes you a happy new year, Naveed\n",
      "Axis Bank wishes you a happy new year, Divya\n",
      "Axis Bank wishes you a happy new year, Tabassum\n"
     ]
    }
   ],
   "source": [
    "for a in students:\n",
    "    print(f\"Axis Bank wishes you a happy new year, {a.title()}\")"
   ]
  },
  {
   "cell_type": "code",
   "execution_count": null,
   "id": "f01bafa9",
   "metadata": {},
   "outputs": [],
   "source": [
    "# enhancement of the code\n",
    "\n",
    "# req: to convey that I am looking forward to receive the practice file of today."
   ]
  },
  {
   "cell_type": "code",
   "execution_count": 18,
   "id": "fdedcad2",
   "metadata": {},
   "outputs": [
    {
     "name": "stdout",
     "output_type": "stream",
     "text": [
      "Keep up the goodwork,Rammohan\n",
      "I am looking to receive your practice file of today, Rammohan\n",
      "Keep up the goodwork,Praveen\n",
      "I am looking to receive your practice file of today, Praveen\n",
      "Keep up the goodwork,Karthik\n",
      "I am looking to receive your practice file of today, Karthik\n",
      "Keep up the goodwork,Naveed\n",
      "I am looking to receive your practice file of today, Naveed\n",
      "Keep up the goodwork,Divya\n",
      "I am looking to receive your practice file of today, Divya\n",
      "Keep up the goodwork,Tabassum\n",
      "I am looking to receive your practice file of today, Tabassum\n"
     ]
    }
   ],
   "source": [
    "for x in students:\n",
    "    print(f\"Keep up the goodwork,{x.title()}\")\n",
    "    print(f\"I am looking to receive your practice file of today, {x.title()}\")"
   ]
  },
  {
   "cell_type": "code",
   "execution_count": 19,
   "id": "5ccaa1a0",
   "metadata": {},
   "outputs": [
    {
     "name": "stdout",
     "output_type": "stream",
     "text": [
      "Keep up the goodwork,Rammohan\n",
      "I am looking to receive your practice file of today, Rammohan\n",
      "\n",
      "Keep up the goodwork,Praveen\n",
      "I am looking to receive your practice file of today, Praveen\n",
      "\n",
      "Keep up the goodwork,Karthik\n",
      "I am looking to receive your practice file of today, Karthik\n",
      "\n",
      "Keep up the goodwork,Naveed\n",
      "I am looking to receive your practice file of today, Naveed\n",
      "\n",
      "Keep up the goodwork,Divya\n",
      "I am looking to receive your practice file of today, Divya\n",
      "\n",
      "Keep up the goodwork,Tabassum\n",
      "I am looking to receive your practice file of today, Tabassum\n",
      "\n"
     ]
    }
   ],
   "source": [
    "for x in students:\n",
    "    print(f\"Keep up the goodwork,{x.title()}\")\n",
    "    print(f\"I am looking to receive your practice file of today, {x.title()}\\n\")"
   ]
  },
  {
   "cell_type": "code",
   "execution_count": null,
   "id": "ac69853c",
   "metadata": {},
   "outputs": [],
   "source": [
    "writing in the loop: ---> applied to all the elements in the list.\n",
    "    \n",
    "writing out of the loop--> This is happened beyond indentation."
   ]
  },
  {
   "cell_type": "code",
   "execution_count": 21,
   "id": "e34a9a17",
   "metadata": {},
   "outputs": [
    {
     "name": "stdout",
     "output_type": "stream",
     "text": [
      "Keep up the goodwork,Rammohan\n",
      "I am looking to receive your practice file of today, Rammohan\n",
      "\n",
      "Keep up the goodwork,Praveen\n",
      "I am looking to receive your practice file of today, Praveen\n",
      "\n",
      "Keep up the goodwork,Karthik\n",
      "I am looking to receive your practice file of today, Karthik\n",
      "\n",
      "Keep up the goodwork,Naveed\n",
      "I am looking to receive your practice file of today, Naveed\n",
      "\n",
      "Keep up the goodwork,Divya\n",
      "I am looking to receive your practice file of today, Divya\n",
      "\n",
      "Keep up the goodwork,Tabassum\n",
      "I am looking to receive your practice file of today, Tabassum\n",
      "\n",
      "Thank you all for joining in the session today\n"
     ]
    }
   ],
   "source": [
    "for x in students:\n",
    "    print(f\"Keep up the goodwork,{x.title()}\")\n",
    "    print(f\"I am looking to receive your practice file of today, {x.title()}\\n\")\n",
    "\n",
    "print(\"Thank you all for joining in the session today\")"
   ]
  },
  {
   "cell_type": "code",
   "execution_count": null,
   "id": "0a2bb622",
   "metadata": {},
   "outputs": [],
   "source": []
  }
 ],
 "metadata": {
  "kernelspec": {
   "display_name": "Python 3",
   "language": "python",
   "name": "python3"
  },
  "language_info": {
   "codemirror_mode": {
    "name": "ipython",
    "version": 3
   },
   "file_extension": ".py",
   "mimetype": "text/x-python",
   "name": "python",
   "nbconvert_exporter": "python",
   "pygments_lexer": "ipython3",
   "version": "3.8.8"
  }
 },
 "nbformat": 4,
 "nbformat_minor": 5
}
